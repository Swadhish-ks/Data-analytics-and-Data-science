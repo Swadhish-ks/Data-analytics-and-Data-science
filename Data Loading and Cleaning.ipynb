{
 "cells": [
  {
   "cell_type": "markdown",
   "id": "ab9fa913-23ac-4988-afb3-b29b70404cb3",
   "metadata": {},
   "source": [
    "# Data Loading"
   ]
  },
  {
   "cell_type": "markdown",
   "id": "3aafa5f0-441c-450c-a799-318c7693d6fd",
   "metadata": {},
   "source": [
    "### Loading a .csv file"
   ]
  },
  {
   "cell_type": "code",
   "execution_count": 1,
   "id": "69d76662-7274-41ed-8ae1-c6c4cb3b0841",
   "metadata": {},
   "outputs": [],
   "source": [
    "import numpy as np\n",
    "import pandas as pd"
   ]
  },
  {
   "cell_type": "code",
   "execution_count": 2,
   "id": "7087c89f-e1c5-4e3c-ad52-6ba6325ff017",
   "metadata": {},
   "outputs": [
    {
     "data": {
      "text/html": [
       "<div>\n",
       "<style scoped>\n",
       "    .dataframe tbody tr th:only-of-type {\n",
       "        vertical-align: middle;\n",
       "    }\n",
       "\n",
       "    .dataframe tbody tr th {\n",
       "        vertical-align: top;\n",
       "    }\n",
       "\n",
       "    .dataframe thead th {\n",
       "        text-align: right;\n",
       "    }\n",
       "</style>\n",
       "<table border=\"1\" class=\"dataframe\">\n",
       "  <thead>\n",
       "    <tr style=\"text-align: right;\">\n",
       "      <th></th>\n",
       "      <th>ID</th>\n",
       "      <th>Name</th>\n",
       "      <th>Age</th>\n",
       "      <th>Gender</th>\n",
       "      <th>Salary</th>\n",
       "      <th>Department</th>\n",
       "    </tr>\n",
       "  </thead>\n",
       "  <tbody>\n",
       "    <tr>\n",
       "      <th>0</th>\n",
       "      <td>1</td>\n",
       "      <td>Avi</td>\n",
       "      <td>25.0</td>\n",
       "      <td>Male</td>\n",
       "      <td>50000</td>\n",
       "      <td>HR</td>\n",
       "    </tr>\n",
       "    <tr>\n",
       "      <th>1</th>\n",
       "      <td>2</td>\n",
       "      <td>avi</td>\n",
       "      <td>NaN</td>\n",
       "      <td>M</td>\n",
       "      <td>55000</td>\n",
       "      <td>hr</td>\n",
       "    </tr>\n",
       "    <tr>\n",
       "      <th>2</th>\n",
       "      <td>2</td>\n",
       "      <td>JOHN</td>\n",
       "      <td>200.0</td>\n",
       "      <td>male</td>\n",
       "      <td>60000</td>\n",
       "      <td>Finance</td>\n",
       "    </tr>\n",
       "    <tr>\n",
       "      <th>3</th>\n",
       "      <td>3</td>\n",
       "      <td>Mary</td>\n",
       "      <td>30.0</td>\n",
       "      <td>Female</td>\n",
       "      <td>?</td>\n",
       "      <td>finance</td>\n",
       "    </tr>\n",
       "    <tr>\n",
       "      <th>4</th>\n",
       "      <td>4</td>\n",
       "      <td>mary</td>\n",
       "      <td>-5.0</td>\n",
       "      <td>F</td>\n",
       "      <td>70000</td>\n",
       "      <td>Finance</td>\n",
       "    </tr>\n",
       "    <tr>\n",
       "      <th>5</th>\n",
       "      <td>5</td>\n",
       "      <td>Sam</td>\n",
       "      <td>28.0</td>\n",
       "      <td>f</td>\n",
       "      <td>65000</td>\n",
       "      <td>IT</td>\n",
       "    </tr>\n",
       "    <tr>\n",
       "      <th>6</th>\n",
       "      <td>6</td>\n",
       "      <td>NaN</td>\n",
       "      <td>40.0</td>\n",
       "      <td>?</td>\n",
       "      <td>NaN</td>\n",
       "      <td>NaN</td>\n",
       "    </tr>\n",
       "  </tbody>\n",
       "</table>\n",
       "</div>"
      ],
      "text/plain": [
       "   ID  Name    Age  Gender Salary Department\n",
       "0   1   Avi   25.0    Male  50000         HR\n",
       "1   2   avi    NaN       M  55000         hr\n",
       "2   2  JOHN  200.0    male  60000    Finance\n",
       "3   3  Mary   30.0  Female      ?    finance\n",
       "4   4  mary   -5.0       F  70000    Finance\n",
       "5   5   Sam   28.0       f  65000         IT\n",
       "6   6   NaN   40.0       ?    NaN        NaN"
      ]
     },
     "execution_count": 2,
     "metadata": {},
     "output_type": "execute_result"
    }
   ],
   "source": [
    "data=pd.read_csv(\"C://Users//avina//Documents//Cyber Square//Data Loading and Cleaning//synthetic_messy_dataset.csv\")\n",
    "data"
   ]
  },
  {
   "cell_type": "code",
   "execution_count": 3,
   "id": "9fc7c416-70d1-485a-a518-e7ce5ec4529a",
   "metadata": {},
   "outputs": [
    {
     "data": {
      "text/html": [
       "<div>\n",
       "<style scoped>\n",
       "    .dataframe tbody tr th:only-of-type {\n",
       "        vertical-align: middle;\n",
       "    }\n",
       "\n",
       "    .dataframe tbody tr th {\n",
       "        vertical-align: top;\n",
       "    }\n",
       "\n",
       "    .dataframe thead th {\n",
       "        text-align: right;\n",
       "    }\n",
       "</style>\n",
       "<table border=\"1\" class=\"dataframe\">\n",
       "  <thead>\n",
       "    <tr style=\"text-align: right;\">\n",
       "      <th></th>\n",
       "      <th>ID</th>\n",
       "      <th>Name</th>\n",
       "      <th>Age</th>\n",
       "      <th>Gender</th>\n",
       "      <th>Salary</th>\n",
       "      <th>Department</th>\n",
       "    </tr>\n",
       "  </thead>\n",
       "  <tbody>\n",
       "    <tr>\n",
       "      <th>0</th>\n",
       "      <td>1</td>\n",
       "      <td>Avi</td>\n",
       "      <td>25.0</td>\n",
       "      <td>Male</td>\n",
       "      <td>50000</td>\n",
       "      <td>HR</td>\n",
       "    </tr>\n",
       "    <tr>\n",
       "      <th>1</th>\n",
       "      <td>2</td>\n",
       "      <td>avi</td>\n",
       "      <td>NaN</td>\n",
       "      <td>M</td>\n",
       "      <td>55000</td>\n",
       "      <td>hr</td>\n",
       "    </tr>\n",
       "    <tr>\n",
       "      <th>2</th>\n",
       "      <td>2</td>\n",
       "      <td>JOHN</td>\n",
       "      <td>200.0</td>\n",
       "      <td>male</td>\n",
       "      <td>60000</td>\n",
       "      <td>Finance</td>\n",
       "    </tr>\n",
       "    <tr>\n",
       "      <th>3</th>\n",
       "      <td>3</td>\n",
       "      <td>Mary</td>\n",
       "      <td>30.0</td>\n",
       "      <td>Female</td>\n",
       "      <td>?</td>\n",
       "      <td>finance</td>\n",
       "    </tr>\n",
       "    <tr>\n",
       "      <th>4</th>\n",
       "      <td>4</td>\n",
       "      <td>mary</td>\n",
       "      <td>-5.0</td>\n",
       "      <td>F</td>\n",
       "      <td>70000</td>\n",
       "      <td>Finance</td>\n",
       "    </tr>\n",
       "  </tbody>\n",
       "</table>\n",
       "</div>"
      ],
      "text/plain": [
       "   ID  Name    Age  Gender Salary Department\n",
       "0   1   Avi   25.0    Male  50000         HR\n",
       "1   2   avi    NaN       M  55000         hr\n",
       "2   2  JOHN  200.0    male  60000    Finance\n",
       "3   3  Mary   30.0  Female      ?    finance\n",
       "4   4  mary   -5.0       F  70000    Finance"
      ]
     },
     "execution_count": 3,
     "metadata": {},
     "output_type": "execute_result"
    }
   ],
   "source": [
    "# Showing 1st 5 rows\n",
    "data.head()"
   ]
  },
  {
   "cell_type": "code",
   "execution_count": 4,
   "id": "6c3cd0a3-f997-4a2e-85b8-4b22ef15e3d2",
   "metadata": {},
   "outputs": [
    {
     "data": {
      "text/html": [
       "<div>\n",
       "<style scoped>\n",
       "    .dataframe tbody tr th:only-of-type {\n",
       "        vertical-align: middle;\n",
       "    }\n",
       "\n",
       "    .dataframe tbody tr th {\n",
       "        vertical-align: top;\n",
       "    }\n",
       "\n",
       "    .dataframe thead th {\n",
       "        text-align: right;\n",
       "    }\n",
       "</style>\n",
       "<table border=\"1\" class=\"dataframe\">\n",
       "  <thead>\n",
       "    <tr style=\"text-align: right;\">\n",
       "      <th></th>\n",
       "      <th>ID</th>\n",
       "      <th>Name</th>\n",
       "      <th>Age</th>\n",
       "      <th>Gender</th>\n",
       "      <th>Salary</th>\n",
       "      <th>Department</th>\n",
       "    </tr>\n",
       "  </thead>\n",
       "  <tbody>\n",
       "    <tr>\n",
       "      <th>2</th>\n",
       "      <td>2</td>\n",
       "      <td>JOHN</td>\n",
       "      <td>200.0</td>\n",
       "      <td>male</td>\n",
       "      <td>60000</td>\n",
       "      <td>Finance</td>\n",
       "    </tr>\n",
       "    <tr>\n",
       "      <th>3</th>\n",
       "      <td>3</td>\n",
       "      <td>Mary</td>\n",
       "      <td>30.0</td>\n",
       "      <td>Female</td>\n",
       "      <td>?</td>\n",
       "      <td>finance</td>\n",
       "    </tr>\n",
       "    <tr>\n",
       "      <th>4</th>\n",
       "      <td>4</td>\n",
       "      <td>mary</td>\n",
       "      <td>-5.0</td>\n",
       "      <td>F</td>\n",
       "      <td>70000</td>\n",
       "      <td>Finance</td>\n",
       "    </tr>\n",
       "    <tr>\n",
       "      <th>5</th>\n",
       "      <td>5</td>\n",
       "      <td>Sam</td>\n",
       "      <td>28.0</td>\n",
       "      <td>f</td>\n",
       "      <td>65000</td>\n",
       "      <td>IT</td>\n",
       "    </tr>\n",
       "    <tr>\n",
       "      <th>6</th>\n",
       "      <td>6</td>\n",
       "      <td>NaN</td>\n",
       "      <td>40.0</td>\n",
       "      <td>?</td>\n",
       "      <td>NaN</td>\n",
       "      <td>NaN</td>\n",
       "    </tr>\n",
       "  </tbody>\n",
       "</table>\n",
       "</div>"
      ],
      "text/plain": [
       "   ID  Name    Age  Gender Salary Department\n",
       "2   2  JOHN  200.0    male  60000    Finance\n",
       "3   3  Mary   30.0  Female      ?    finance\n",
       "4   4  mary   -5.0       F  70000    Finance\n",
       "5   5   Sam   28.0       f  65000         IT\n",
       "6   6   NaN   40.0       ?    NaN        NaN"
      ]
     },
     "execution_count": 4,
     "metadata": {},
     "output_type": "execute_result"
    }
   ],
   "source": [
    "# showing last 5 rows\n",
    "data.tail()"
   ]
  },
  {
   "cell_type": "code",
   "execution_count": 5,
   "id": "e3472ab2-af29-423f-8948-7cd9de78899c",
   "metadata": {},
   "outputs": [
    {
     "data": {
      "text/html": [
       "<div>\n",
       "<style scoped>\n",
       "    .dataframe tbody tr th:only-of-type {\n",
       "        vertical-align: middle;\n",
       "    }\n",
       "\n",
       "    .dataframe tbody tr th {\n",
       "        vertical-align: top;\n",
       "    }\n",
       "\n",
       "    .dataframe thead th {\n",
       "        text-align: right;\n",
       "    }\n",
       "</style>\n",
       "<table border=\"1\" class=\"dataframe\">\n",
       "  <thead>\n",
       "    <tr style=\"text-align: right;\">\n",
       "      <th></th>\n",
       "      <th>ID</th>\n",
       "      <th>Name</th>\n",
       "      <th>Age</th>\n",
       "      <th>Gender</th>\n",
       "      <th>Salary</th>\n",
       "      <th>Department</th>\n",
       "    </tr>\n",
       "  </thead>\n",
       "  <tbody>\n",
       "    <tr>\n",
       "      <th>0</th>\n",
       "      <td>1</td>\n",
       "      <td>Avi</td>\n",
       "      <td>25.0</td>\n",
       "      <td>Male</td>\n",
       "      <td>50000</td>\n",
       "      <td>HR</td>\n",
       "    </tr>\n",
       "    <tr>\n",
       "      <th>1</th>\n",
       "      <td>2</td>\n",
       "      <td>avi</td>\n",
       "      <td>NaN</td>\n",
       "      <td>M</td>\n",
       "      <td>55000</td>\n",
       "      <td>hr</td>\n",
       "    </tr>\n",
       "    <tr>\n",
       "      <th>2</th>\n",
       "      <td>2</td>\n",
       "      <td>JOHN</td>\n",
       "      <td>200.0</td>\n",
       "      <td>male</td>\n",
       "      <td>60000</td>\n",
       "      <td>Finance</td>\n",
       "    </tr>\n",
       "  </tbody>\n",
       "</table>\n",
       "</div>"
      ],
      "text/plain": [
       "   ID  Name    Age Gender Salary Department\n",
       "0   1   Avi   25.0   Male  50000         HR\n",
       "1   2   avi    NaN      M  55000         hr\n",
       "2   2  JOHN  200.0   male  60000    Finance"
      ]
     },
     "execution_count": 5,
     "metadata": {},
     "output_type": "execute_result"
    }
   ],
   "source": [
    "# showing 1st n rows\n",
    "data.head(3)"
   ]
  },
  {
   "cell_type": "code",
   "execution_count": 6,
   "id": "14cfb7d9-5203-4f1e-af04-b8402ad9c4ac",
   "metadata": {},
   "outputs": [
    {
     "data": {
      "text/html": [
       "<div>\n",
       "<style scoped>\n",
       "    .dataframe tbody tr th:only-of-type {\n",
       "        vertical-align: middle;\n",
       "    }\n",
       "\n",
       "    .dataframe tbody tr th {\n",
       "        vertical-align: top;\n",
       "    }\n",
       "\n",
       "    .dataframe thead th {\n",
       "        text-align: right;\n",
       "    }\n",
       "</style>\n",
       "<table border=\"1\" class=\"dataframe\">\n",
       "  <thead>\n",
       "    <tr style=\"text-align: right;\">\n",
       "      <th></th>\n",
       "      <th>ID</th>\n",
       "      <th>Name</th>\n",
       "      <th>Age</th>\n",
       "      <th>Gender</th>\n",
       "      <th>Salary</th>\n",
       "      <th>Department</th>\n",
       "    </tr>\n",
       "  </thead>\n",
       "  <tbody>\n",
       "    <tr>\n",
       "      <th>5</th>\n",
       "      <td>5</td>\n",
       "      <td>Sam</td>\n",
       "      <td>28.0</td>\n",
       "      <td>f</td>\n",
       "      <td>65000</td>\n",
       "      <td>IT</td>\n",
       "    </tr>\n",
       "    <tr>\n",
       "      <th>6</th>\n",
       "      <td>6</td>\n",
       "      <td>NaN</td>\n",
       "      <td>40.0</td>\n",
       "      <td>?</td>\n",
       "      <td>NaN</td>\n",
       "      <td>NaN</td>\n",
       "    </tr>\n",
       "  </tbody>\n",
       "</table>\n",
       "</div>"
      ],
      "text/plain": [
       "   ID Name   Age Gender Salary Department\n",
       "5   5  Sam  28.0      f  65000         IT\n",
       "6   6  NaN  40.0      ?    NaN        NaN"
      ]
     },
     "execution_count": 6,
     "metadata": {},
     "output_type": "execute_result"
    }
   ],
   "source": [
    "#showing last n rows\n",
    "data.tail(2)"
   ]
  },
  {
   "cell_type": "code",
   "execution_count": null,
   "id": "49450d85-838d-49b7-b44f-43afe182cc3a",
   "metadata": {},
   "outputs": [],
   "source": []
  },
  {
   "cell_type": "code",
   "execution_count": null,
   "id": "be7c3b48-69ca-4504-8b14-efce85f370d8",
   "metadata": {},
   "outputs": [],
   "source": []
  },
  {
   "cell_type": "code",
   "execution_count": null,
   "id": "a0699e18-4d93-4844-8964-078d316f234b",
   "metadata": {},
   "outputs": [],
   "source": []
  },
  {
   "cell_type": "code",
   "execution_count": null,
   "id": "0fa27c0c-0db9-4096-bb17-21910de3701e",
   "metadata": {},
   "outputs": [],
   "source": []
  },
  {
   "cell_type": "code",
   "execution_count": null,
   "id": "9289343b-612c-4ac7-9f5e-725d34565404",
   "metadata": {},
   "outputs": [],
   "source": []
  },
  {
   "cell_type": "code",
   "execution_count": null,
   "id": "8cf17635-499e-412b-8840-0750a958ac17",
   "metadata": {},
   "outputs": [],
   "source": []
  },
  {
   "cell_type": "markdown",
   "id": "29bc3645-0e66-4b44-8dfd-ed118a04a4c3",
   "metadata": {},
   "source": [
    "## Loading an excel file"
   ]
  },
  {
   "cell_type": "code",
   "execution_count": 2,
   "id": "0ae1ca58-5043-4473-a7fd-6f6eff116f8d",
   "metadata": {},
   "outputs": [
    {
     "ename": "NameError",
     "evalue": "name 'pd' is not defined",
     "output_type": "error",
     "traceback": [
      "\u001b[1;31m---------------------------------------------------------------------------\u001b[0m",
      "\u001b[1;31mNameError\u001b[0m                                 Traceback (most recent call last)",
      "Cell \u001b[1;32mIn[2], line 1\u001b[0m\n\u001b[1;32m----> 1\u001b[0m df \u001b[38;5;241m=\u001b[39m pd\u001b[38;5;241m.\u001b[39mread_excel(\u001b[38;5;124m\"\u001b[39m\u001b[38;5;124mC://Users//avina//Documents//Cyber Square//Data Loading and Cleaning//synthetic_employee_data.xlsx\u001b[39m\u001b[38;5;124m\"\u001b[39m)\n\u001b[0;32m      2\u001b[0m df\n",
      "\u001b[1;31mNameError\u001b[0m: name 'pd' is not defined"
     ]
    }
   ],
   "source": [
    "df = pd.read_excel(\"C://Users//avina//Documents//Cyber Square//Data Loading and Cleaning//synthetic_employee_data.xlsx\")\n",
    "df"
   ]
  },
  {
   "cell_type": "code",
   "execution_count": 1,
   "id": "cae694d8-a089-4fd9-bfd6-16d91cc66893",
   "metadata": {},
   "outputs": [
    {
     "ename": "NameError",
     "evalue": "name 'df' is not defined",
     "output_type": "error",
     "traceback": [
      "\u001b[1;31m---------------------------------------------------------------------------\u001b[0m",
      "\u001b[1;31mNameError\u001b[0m                                 Traceback (most recent call last)",
      "Cell \u001b[1;32mIn[1], line 1\u001b[0m\n\u001b[1;32m----> 1\u001b[0m df\u001b[38;5;241m.\u001b[39mhead()\n",
      "\u001b[1;31mNameError\u001b[0m: name 'df' is not defined"
     ]
    }
   ],
   "source": [
    "df.head()"
   ]
  },
  {
   "cell_type": "code",
   "execution_count": null,
   "id": "5da583a5-3e6c-458e-871f-df4a494fa39f",
   "metadata": {},
   "outputs": [],
   "source": [
    "data.tail()"
   ]
  },
  {
   "cell_type": "code",
   "execution_count": null,
   "id": "ac7506c6-5acf-4bcd-8542-6d9d8d246ae4",
   "metadata": {},
   "outputs": [],
   "source": []
  },
  {
   "cell_type": "code",
   "execution_count": null,
   "id": "562f649d-c7c9-4d9f-b09d-bc6e9010333b",
   "metadata": {},
   "outputs": [],
   "source": []
  },
  {
   "cell_type": "markdown",
   "id": "d0f1a958-5de5-42ea-9c92-9977b1da43f7",
   "metadata": {},
   "source": [
    "## 2. Initial Data Exploration\n",
    "\n",
    "After loading, always check the shape and structure:"
   ]
  },
  {
   "cell_type": "code",
   "execution_count": null,
   "id": "d5936e53-0339-4200-bffb-79d70aedf512",
   "metadata": {},
   "outputs": [],
   "source": [
    "df.shape"
   ]
  },
  {
   "cell_type": "code",
   "execution_count": 3,
   "id": "bcbe7b30-1ab6-4117-a6e9-8996600f0812",
   "metadata": {},
   "outputs": [
    {
     "ename": "NameError",
     "evalue": "name 'df' is not defined",
     "output_type": "error",
     "traceback": [
      "\u001b[1;31m---------------------------------------------------------------------------\u001b[0m",
      "\u001b[1;31mNameError\u001b[0m                                 Traceback (most recent call last)",
      "Cell \u001b[1;32mIn[3], line 1\u001b[0m\n\u001b[1;32m----> 1\u001b[0m df\u001b[38;5;241m.\u001b[39minfo()\n",
      "\u001b[1;31mNameError\u001b[0m: name 'df' is not defined"
     ]
    }
   ],
   "source": [
    "df.info()"
   ]
  },
  {
   "cell_type": "code",
   "execution_count": null,
   "id": "ea6ed915-c4c3-486e-a34c-6071d72c7824",
   "metadata": {},
   "outputs": [],
   "source": [
    "df.describe()"
   ]
  },
  {
   "cell_type": "markdown",
   "id": "81cb4ab4-2981-4651-8aff-6308ac1b070c",
   "metadata": {},
   "source": [
    "## 3. Data Cleaning Steps"
   ]
  },
  {
   "cell_type": "markdown",
   "id": "e28ea3a3-a1af-45c1-a8e2-d7abad3130f3",
   "metadata": {},
   "source": [
    "### (a) Handle Duplicates"
   ]
  },
  {
   "cell_type": "code",
   "execution_count": null,
   "id": "7a7d4bcf-28b4-4b9f-9971-a73eda0f171d",
   "metadata": {},
   "outputs": [],
   "source": [
    "df.duplicated()"
   ]
  },
  {
   "cell_type": "code",
   "execution_count": null,
   "id": "5b735ef2-9aed-485b-9383-e11b8aee8f6a",
   "metadata": {},
   "outputs": [],
   "source": [
    "df.duplicated().sum()"
   ]
  },
  {
   "cell_type": "code",
   "execution_count": null,
   "id": "ac19d3b5-cb03-48b6-a296-f2127d3aa854",
   "metadata": {},
   "outputs": [],
   "source": [
    "print(df.duplicated().sum())"
   ]
  },
  {
   "cell_type": "code",
   "execution_count": null,
   "id": "96fd3edd-0761-45af-8ae4-f7b544dcd6f0",
   "metadata": {},
   "outputs": [],
   "source": []
  },
  {
   "cell_type": "code",
   "execution_count": null,
   "id": "d76b6309-b8f1-4a98-9fd3-9e511aff9daa",
   "metadata": {},
   "outputs": [],
   "source": [
    "df[df.duplicated()]"
   ]
  },
  {
   "cell_type": "code",
   "execution_count": null,
   "id": "373c8887-fcd6-47be-810d-cabddc7513f2",
   "metadata": {
    "scrolled": true
   },
   "outputs": [],
   "source": [
    "df.drop_duplicates()"
   ]
  },
  {
   "cell_type": "code",
   "execution_count": null,
   "id": "0b01c834-3bfc-4381-a3a0-061d5271e5d8",
   "metadata": {},
   "outputs": [],
   "source": [
    "df=df.drop_duplicates()"
   ]
  },
  {
   "cell_type": "code",
   "execution_count": null,
   "id": "968bb209-2cca-44e6-9c89-09221ad1dfc8",
   "metadata": {},
   "outputs": [],
   "source": [
    "print(df.duplicated().sum())"
   ]
  },
  {
   "cell_type": "code",
   "execution_count": null,
   "id": "96e77e1f-8940-4825-8842-94f2b87e9aca",
   "metadata": {},
   "outputs": [],
   "source": []
  },
  {
   "cell_type": "markdown",
   "id": "0ce28b0e-3aa4-4fb9-ae99-c565faa28f1b",
   "metadata": {},
   "source": [
    "### (b) Handle Missing Values"
   ]
  },
  {
   "cell_type": "code",
   "execution_count": null,
   "id": "0bccce10-e80d-42cd-8416-8cbc560a9594",
   "metadata": {},
   "outputs": [],
   "source": [
    "df.isna()"
   ]
  },
  {
   "cell_type": "code",
   "execution_count": null,
   "id": "506a125e-ca36-41ef-b4dd-7997f257a516",
   "metadata": {},
   "outputs": [],
   "source": [
    "df.isnull()"
   ]
  },
  {
   "cell_type": "code",
   "execution_count": null,
   "id": "c429d650-6196-4483-b677-298ed2474793",
   "metadata": {},
   "outputs": [],
   "source": [
    "df.isna().sum()"
   ]
  },
  {
   "cell_type": "code",
   "execution_count": null,
   "id": "6aeb9251-96aa-41ee-b9a0-5969efc2b023",
   "metadata": {},
   "outputs": [],
   "source": [
    "df.dropna()"
   ]
  },
  {
   "cell_type": "code",
   "execution_count": null,
   "id": "ea005d1e-50a3-4638-be76-0c4703e1b2d9",
   "metadata": {},
   "outputs": [],
   "source": [
    "no_na=df.dropna()\n",
    "no_na.isna().sum()"
   ]
  },
  {
   "cell_type": "code",
   "execution_count": null,
   "id": "c1f1a6eb-6e13-4939-bd74-d10b888d285f",
   "metadata": {},
   "outputs": [],
   "source": [
    "df.isna().sum()"
   ]
  },
  {
   "cell_type": "code",
   "execution_count": null,
   "id": "750e2391-b885-4604-a3e8-df3255aa69a8",
   "metadata": {},
   "outputs": [],
   "source": [
    "df[\"Gender\"].unique()"
   ]
  },
  {
   "cell_type": "code",
   "execution_count": null,
   "id": "6904fdfc-c54e-43e1-97f8-4f84e2ecd96b",
   "metadata": {},
   "outputs": [],
   "source": [
    "df[\"Department\"].unique()"
   ]
  },
  {
   "cell_type": "code",
   "execution_count": null,
   "id": "8535672a-f415-40b3-a840-9f9d916dbca8",
   "metadata": {},
   "outputs": [],
   "source": [
    "df[\"gender_new\"]=df[\"Gender\"].replace({'F':'Female', 'M':\"Male\"})\n",
    "df"
   ]
  },
  {
   "cell_type": "code",
   "execution_count": null,
   "id": "6ff96805-fb5c-43ce-88d1-76423fcf282e",
   "metadata": {},
   "outputs": [],
   "source": [
    "df[\"department_new\"]=df[\"Department\"].replace({'finance':'Finance'})\n",
    "df"
   ]
  },
  {
   "cell_type": "code",
   "execution_count": null,
   "id": "042f5ad1-2df8-408f-b0ee-6baa93e1317c",
   "metadata": {},
   "outputs": [],
   "source": [
    "df.head()"
   ]
  },
  {
   "cell_type": "code",
   "execution_count": null,
   "id": "4440c559-86bc-46b3-b139-f5200a742c9d",
   "metadata": {},
   "outputs": [],
   "source": [
    "new=df.drop(columns='Gender')\n",
    "new"
   ]
  },
  {
   "cell_type": "code",
   "execution_count": null,
   "id": "817e0113-d01a-47d0-8119-45b708cb191d",
   "metadata": {},
   "outputs": [],
   "source": [
    "new=new.drop('Department',axis=1)\n",
    "new"
   ]
  },
  {
   "cell_type": "code",
   "execution_count": null,
   "id": "fdd8146d-527f-4080-8885-81739c42a2f7",
   "metadata": {},
   "outputs": [],
   "source": [
    "print(new[\"Age\"].mean())"
   ]
  },
  {
   "cell_type": "code",
   "execution_count": null,
   "id": "bb0e5df4-ded3-4159-a8f6-fd2a58b08232",
   "metadata": {},
   "outputs": [],
   "source": [
    "new[\"Age\"]=new[\"Age\"].fillna(new[\"Age\"].mean())"
   ]
  },
  {
   "cell_type": "code",
   "execution_count": null,
   "id": "f5e9f117-b640-4936-950f-67026c9b8aa4",
   "metadata": {
    "scrolled": true
   },
   "outputs": [],
   "source": [
    "new.isna().sum()"
   ]
  },
  {
   "cell_type": "code",
   "execution_count": null,
   "id": "6766079b-a041-490c-b441-39b8b3a13810",
   "metadata": {},
   "outputs": [],
   "source": [
    "new[\"Salary\"]=new[\"Salary\"].fillna(new[\"Salary\"].mean())\n",
    "new.isna().sum()"
   ]
  },
  {
   "cell_type": "code",
   "execution_count": null,
   "id": "7f8dedd9-48c1-44e8-a4c5-cdd030b81615",
   "metadata": {},
   "outputs": [],
   "source": [
    "new.to_csv(\"C://Users//avina//Desktop//cleaned_data.csv\")"
   ]
  },
  {
   "cell_type": "code",
   "execution_count": null,
   "id": "102bf9e6-a6cd-4952-8e3a-447033a51dce",
   "metadata": {},
   "outputs": [],
   "source": []
  },
  {
   "cell_type": "code",
   "execution_count": null,
   "id": "f8de87f7-4d2d-40b1-8a78-a87bb5e1394d",
   "metadata": {},
   "outputs": [],
   "source": []
  },
  {
   "cell_type": "code",
   "execution_count": null,
   "id": "00dba3a2-2e57-4109-8cc3-d73db88f0743",
   "metadata": {},
   "outputs": [],
   "source": []
  },
  {
   "cell_type": "code",
   "execution_count": null,
   "id": "7e28eb82-a622-4882-a534-7db2ad16145d",
   "metadata": {},
   "outputs": [],
   "source": []
  },
  {
   "cell_type": "code",
   "execution_count": null,
   "id": "4ae434ae-a1e7-4dfc-853f-2ede920db436",
   "metadata": {},
   "outputs": [],
   "source": []
  },
  {
   "cell_type": "code",
   "execution_count": null,
   "id": "6044e54c-84f4-4c2f-8a37-a8befcf15e82",
   "metadata": {},
   "outputs": [],
   "source": []
  },
  {
   "cell_type": "code",
   "execution_count": null,
   "id": "280fcd1f-dfb4-49a3-bf1f-41819b1a0a7d",
   "metadata": {},
   "outputs": [],
   "source": []
  }
 ],
 "metadata": {
  "kernelspec": {
   "display_name": "Python [conda env:base] *",
   "language": "python",
   "name": "conda-base-py"
  },
  "language_info": {
   "codemirror_mode": {
    "name": "ipython",
    "version": 3
   },
   "file_extension": ".py",
   "mimetype": "text/x-python",
   "name": "python",
   "nbconvert_exporter": "python",
   "pygments_lexer": "ipython3",
   "version": "3.13.5"
  }
 },
 "nbformat": 4,
 "nbformat_minor": 5
}
